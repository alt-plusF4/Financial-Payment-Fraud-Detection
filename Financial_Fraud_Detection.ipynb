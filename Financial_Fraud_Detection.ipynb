{
  "nbformat": 4,
  "nbformat_minor": 0,
  "metadata": {
    "colab": {
      "provenance": [],
      "toc_visible": true,
      "authorship_tag": "ABX9TyMLTk74ittJzdNxXIDyaHqb",
      "include_colab_link": true
    },
    "kernelspec": {
      "name": "python3",
      "display_name": "Python 3"
    },
    "language_info": {
      "name": "python"
    }
  },
  "cells": [
    {
      "cell_type": "markdown",
      "metadata": {
        "id": "view-in-github",
        "colab_type": "text"
      },
      "source": [
        "<a href=\"https://colab.research.google.com/github/alt-plusF4/Financial-Payment-Fraud-Detection/blob/main/Financial_Fraud_Detection.ipynb\" target=\"_parent\"><img src=\"https://colab.research.google.com/assets/colab-badge.svg\" alt=\"Open In Colab\"/></a>"
      ]
    },
    {
      "cell_type": "markdown",
      "source": [
        "# New Section"
      ],
      "metadata": {
        "id": "wCMoP-vlgH9S"
      }
    },
    {
      "cell_type": "code",
      "source": [
        "import pandas as pd\n",
        "import numpy as np\n",
        "import tensorflow as tf\n",
        "from tensorflow import keras\n",
        "\n",
        "# Load the data\n",
        "df = pd.read_csv('Fraud.csv')\n"
      ],
      "metadata": {
        "id": "_xnHf7OQVyCM"
      },
      "execution_count": 16,
      "outputs": []
    },
    {
      "cell_type": "code",
      "source": [
        "df"
      ],
      "metadata": {
        "colab": {
          "base_uri": "https://localhost:8080/",
          "height": 487
        },
        "id": "yJbw51HUZm_y",
        "outputId": "aa4aad88-7470-4b8e-acca-845994803f9b"
      },
      "execution_count": 17,
      "outputs": [
        {
          "output_type": "execute_result",
          "data": {
            "text/plain": [
              "        step      type      amount     nameOrig  oldbalanceOrg  \\\n",
              "0          1   PAYMENT     9839.64  C1231006815      170136.00   \n",
              "1          1   PAYMENT     1864.28  C1666544295       21249.00   \n",
              "2          1  TRANSFER      181.00  C1305486145         181.00   \n",
              "3          1  CASH_OUT      181.00   C840083671         181.00   \n",
              "4          1   PAYMENT    11668.14  C2048537720       41554.00   \n",
              "...      ...       ...         ...          ...            ...   \n",
              "899841    42  CASH_OUT    72546.29  C2139724808      560282.00   \n",
              "899842    42  TRANSFER  1331404.01  C1072152161      487735.71   \n",
              "899843    42  TRANSFER   346219.76   C265961220           0.00   \n",
              "899844    42  TRANSFER   133776.69   C639323350           0.00   \n",
              "899845    42  TRANSFER    49905.95   C356646337           0.00   \n",
              "\n",
              "        newbalanceOrig     nameDest  oldbalanceDest  newbalanceDest  isFraud  \\\n",
              "0            160296.36  M1979787155            0.00            0.00      0.0   \n",
              "1             19384.72  M2044282225            0.00            0.00      0.0   \n",
              "2                 0.00   C553264065            0.00            0.00      1.0   \n",
              "3                 0.00    C38997010        21182.00            0.00      1.0   \n",
              "4             29885.86  M1230701703            0.00            0.00      0.0   \n",
              "...                ...          ...             ...             ...      ...   \n",
              "899841       487735.71  C1028811303      1316390.15      1388936.44      0.0   \n",
              "899842            0.00   C839403720      2431565.23      3885907.95      0.0   \n",
              "899843            0.00  C1527319618       349261.19       695480.95      0.0   \n",
              "899844            0.00  C1113032088      1513890.56      1647667.25      0.0   \n",
              "899845             NaN          NaN             NaN             NaN      NaN   \n",
              "\n",
              "        isFlaggedFraud  \n",
              "0                  0.0  \n",
              "1                  0.0  \n",
              "2                  0.0  \n",
              "3                  0.0  \n",
              "4                  0.0  \n",
              "...                ...  \n",
              "899841             0.0  \n",
              "899842             0.0  \n",
              "899843             0.0  \n",
              "899844             0.0  \n",
              "899845             NaN  \n",
              "\n",
              "[899846 rows x 11 columns]"
            ],
            "text/html": [
              "\n",
              "  <div id=\"df-d72b4357-18a0-4641-a557-155912da0b27\">\n",
              "    <div class=\"colab-df-container\">\n",
              "      <div>\n",
              "<style scoped>\n",
              "    .dataframe tbody tr th:only-of-type {\n",
              "        vertical-align: middle;\n",
              "    }\n",
              "\n",
              "    .dataframe tbody tr th {\n",
              "        vertical-align: top;\n",
              "    }\n",
              "\n",
              "    .dataframe thead th {\n",
              "        text-align: right;\n",
              "    }\n",
              "</style>\n",
              "<table border=\"1\" class=\"dataframe\">\n",
              "  <thead>\n",
              "    <tr style=\"text-align: right;\">\n",
              "      <th></th>\n",
              "      <th>step</th>\n",
              "      <th>type</th>\n",
              "      <th>amount</th>\n",
              "      <th>nameOrig</th>\n",
              "      <th>oldbalanceOrg</th>\n",
              "      <th>newbalanceOrig</th>\n",
              "      <th>nameDest</th>\n",
              "      <th>oldbalanceDest</th>\n",
              "      <th>newbalanceDest</th>\n",
              "      <th>isFraud</th>\n",
              "      <th>isFlaggedFraud</th>\n",
              "    </tr>\n",
              "  </thead>\n",
              "  <tbody>\n",
              "    <tr>\n",
              "      <th>0</th>\n",
              "      <td>1</td>\n",
              "      <td>PAYMENT</td>\n",
              "      <td>9839.64</td>\n",
              "      <td>C1231006815</td>\n",
              "      <td>170136.00</td>\n",
              "      <td>160296.36</td>\n",
              "      <td>M1979787155</td>\n",
              "      <td>0.00</td>\n",
              "      <td>0.00</td>\n",
              "      <td>0.0</td>\n",
              "      <td>0.0</td>\n",
              "    </tr>\n",
              "    <tr>\n",
              "      <th>1</th>\n",
              "      <td>1</td>\n",
              "      <td>PAYMENT</td>\n",
              "      <td>1864.28</td>\n",
              "      <td>C1666544295</td>\n",
              "      <td>21249.00</td>\n",
              "      <td>19384.72</td>\n",
              "      <td>M2044282225</td>\n",
              "      <td>0.00</td>\n",
              "      <td>0.00</td>\n",
              "      <td>0.0</td>\n",
              "      <td>0.0</td>\n",
              "    </tr>\n",
              "    <tr>\n",
              "      <th>2</th>\n",
              "      <td>1</td>\n",
              "      <td>TRANSFER</td>\n",
              "      <td>181.00</td>\n",
              "      <td>C1305486145</td>\n",
              "      <td>181.00</td>\n",
              "      <td>0.00</td>\n",
              "      <td>C553264065</td>\n",
              "      <td>0.00</td>\n",
              "      <td>0.00</td>\n",
              "      <td>1.0</td>\n",
              "      <td>0.0</td>\n",
              "    </tr>\n",
              "    <tr>\n",
              "      <th>3</th>\n",
              "      <td>1</td>\n",
              "      <td>CASH_OUT</td>\n",
              "      <td>181.00</td>\n",
              "      <td>C840083671</td>\n",
              "      <td>181.00</td>\n",
              "      <td>0.00</td>\n",
              "      <td>C38997010</td>\n",
              "      <td>21182.00</td>\n",
              "      <td>0.00</td>\n",
              "      <td>1.0</td>\n",
              "      <td>0.0</td>\n",
              "    </tr>\n",
              "    <tr>\n",
              "      <th>4</th>\n",
              "      <td>1</td>\n",
              "      <td>PAYMENT</td>\n",
              "      <td>11668.14</td>\n",
              "      <td>C2048537720</td>\n",
              "      <td>41554.00</td>\n",
              "      <td>29885.86</td>\n",
              "      <td>M1230701703</td>\n",
              "      <td>0.00</td>\n",
              "      <td>0.00</td>\n",
              "      <td>0.0</td>\n",
              "      <td>0.0</td>\n",
              "    </tr>\n",
              "    <tr>\n",
              "      <th>...</th>\n",
              "      <td>...</td>\n",
              "      <td>...</td>\n",
              "      <td>...</td>\n",
              "      <td>...</td>\n",
              "      <td>...</td>\n",
              "      <td>...</td>\n",
              "      <td>...</td>\n",
              "      <td>...</td>\n",
              "      <td>...</td>\n",
              "      <td>...</td>\n",
              "      <td>...</td>\n",
              "    </tr>\n",
              "    <tr>\n",
              "      <th>899841</th>\n",
              "      <td>42</td>\n",
              "      <td>CASH_OUT</td>\n",
              "      <td>72546.29</td>\n",
              "      <td>C2139724808</td>\n",
              "      <td>560282.00</td>\n",
              "      <td>487735.71</td>\n",
              "      <td>C1028811303</td>\n",
              "      <td>1316390.15</td>\n",
              "      <td>1388936.44</td>\n",
              "      <td>0.0</td>\n",
              "      <td>0.0</td>\n",
              "    </tr>\n",
              "    <tr>\n",
              "      <th>899842</th>\n",
              "      <td>42</td>\n",
              "      <td>TRANSFER</td>\n",
              "      <td>1331404.01</td>\n",
              "      <td>C1072152161</td>\n",
              "      <td>487735.71</td>\n",
              "      <td>0.00</td>\n",
              "      <td>C839403720</td>\n",
              "      <td>2431565.23</td>\n",
              "      <td>3885907.95</td>\n",
              "      <td>0.0</td>\n",
              "      <td>0.0</td>\n",
              "    </tr>\n",
              "    <tr>\n",
              "      <th>899843</th>\n",
              "      <td>42</td>\n",
              "      <td>TRANSFER</td>\n",
              "      <td>346219.76</td>\n",
              "      <td>C265961220</td>\n",
              "      <td>0.00</td>\n",
              "      <td>0.00</td>\n",
              "      <td>C1527319618</td>\n",
              "      <td>349261.19</td>\n",
              "      <td>695480.95</td>\n",
              "      <td>0.0</td>\n",
              "      <td>0.0</td>\n",
              "    </tr>\n",
              "    <tr>\n",
              "      <th>899844</th>\n",
              "      <td>42</td>\n",
              "      <td>TRANSFER</td>\n",
              "      <td>133776.69</td>\n",
              "      <td>C639323350</td>\n",
              "      <td>0.00</td>\n",
              "      <td>0.00</td>\n",
              "      <td>C1113032088</td>\n",
              "      <td>1513890.56</td>\n",
              "      <td>1647667.25</td>\n",
              "      <td>0.0</td>\n",
              "      <td>0.0</td>\n",
              "    </tr>\n",
              "    <tr>\n",
              "      <th>899845</th>\n",
              "      <td>42</td>\n",
              "      <td>TRANSFER</td>\n",
              "      <td>49905.95</td>\n",
              "      <td>C356646337</td>\n",
              "      <td>0.00</td>\n",
              "      <td>NaN</td>\n",
              "      <td>NaN</td>\n",
              "      <td>NaN</td>\n",
              "      <td>NaN</td>\n",
              "      <td>NaN</td>\n",
              "      <td>NaN</td>\n",
              "    </tr>\n",
              "  </tbody>\n",
              "</table>\n",
              "<p>899846 rows × 11 columns</p>\n",
              "</div>\n",
              "      <button class=\"colab-df-convert\" onclick=\"convertToInteractive('df-d72b4357-18a0-4641-a557-155912da0b27')\"\n",
              "              title=\"Convert this dataframe to an interactive table.\"\n",
              "              style=\"display:none;\">\n",
              "        \n",
              "  <svg xmlns=\"http://www.w3.org/2000/svg\" height=\"24px\"viewBox=\"0 0 24 24\"\n",
              "       width=\"24px\">\n",
              "    <path d=\"M0 0h24v24H0V0z\" fill=\"none\"/>\n",
              "    <path d=\"M18.56 5.44l.94 2.06.94-2.06 2.06-.94-2.06-.94-.94-2.06-.94 2.06-2.06.94zm-11 1L8.5 8.5l.94-2.06 2.06-.94-2.06-.94L8.5 2.5l-.94 2.06-2.06.94zm10 10l.94 2.06.94-2.06 2.06-.94-2.06-.94-.94-2.06-.94 2.06-2.06.94z\"/><path d=\"M17.41 7.96l-1.37-1.37c-.4-.4-.92-.59-1.43-.59-.52 0-1.04.2-1.43.59L10.3 9.45l-7.72 7.72c-.78.78-.78 2.05 0 2.83L4 21.41c.39.39.9.59 1.41.59.51 0 1.02-.2 1.41-.59l7.78-7.78 2.81-2.81c.8-.78.8-2.07 0-2.86zM5.41 20L4 18.59l7.72-7.72 1.47 1.35L5.41 20z\"/>\n",
              "  </svg>\n",
              "      </button>\n",
              "      \n",
              "  <style>\n",
              "    .colab-df-container {\n",
              "      display:flex;\n",
              "      flex-wrap:wrap;\n",
              "      gap: 12px;\n",
              "    }\n",
              "\n",
              "    .colab-df-convert {\n",
              "      background-color: #E8F0FE;\n",
              "      border: none;\n",
              "      border-radius: 50%;\n",
              "      cursor: pointer;\n",
              "      display: none;\n",
              "      fill: #1967D2;\n",
              "      height: 32px;\n",
              "      padding: 0 0 0 0;\n",
              "      width: 32px;\n",
              "    }\n",
              "\n",
              "    .colab-df-convert:hover {\n",
              "      background-color: #E2EBFA;\n",
              "      box-shadow: 0px 1px 2px rgba(60, 64, 67, 0.3), 0px 1px 3px 1px rgba(60, 64, 67, 0.15);\n",
              "      fill: #174EA6;\n",
              "    }\n",
              "\n",
              "    [theme=dark] .colab-df-convert {\n",
              "      background-color: #3B4455;\n",
              "      fill: #D2E3FC;\n",
              "    }\n",
              "\n",
              "    [theme=dark] .colab-df-convert:hover {\n",
              "      background-color: #434B5C;\n",
              "      box-shadow: 0px 1px 3px 1px rgba(0, 0, 0, 0.15);\n",
              "      filter: drop-shadow(0px 1px 2px rgba(0, 0, 0, 0.3));\n",
              "      fill: #FFFFFF;\n",
              "    }\n",
              "  </style>\n",
              "\n",
              "      <script>\n",
              "        const buttonEl =\n",
              "          document.querySelector('#df-d72b4357-18a0-4641-a557-155912da0b27 button.colab-df-convert');\n",
              "        buttonEl.style.display =\n",
              "          google.colab.kernel.accessAllowed ? 'block' : 'none';\n",
              "\n",
              "        async function convertToInteractive(key) {\n",
              "          const element = document.querySelector('#df-d72b4357-18a0-4641-a557-155912da0b27');\n",
              "          const dataTable =\n",
              "            await google.colab.kernel.invokeFunction('convertToInteractive',\n",
              "                                                     [key], {});\n",
              "          if (!dataTable) return;\n",
              "\n",
              "          const docLinkHtml = 'Like what you see? Visit the ' +\n",
              "            '<a target=\"_blank\" href=https://colab.research.google.com/notebooks/data_table.ipynb>data table notebook</a>'\n",
              "            + ' to learn more about interactive tables.';\n",
              "          element.innerHTML = '';\n",
              "          dataTable['output_type'] = 'display_data';\n",
              "          await google.colab.output.renderOutput(dataTable, element);\n",
              "          const docLink = document.createElement('div');\n",
              "          docLink.innerHTML = docLinkHtml;\n",
              "          element.appendChild(docLink);\n",
              "        }\n",
              "      </script>\n",
              "    </div>\n",
              "  </div>\n",
              "  "
            ]
          },
          "metadata": {},
          "execution_count": 17
        }
      ]
    },
    {
      "cell_type": "code",
      "source": [
        "# Check for missing values\n",
        "df.isnull().sum()\n",
        "\n",
        "# Drop unnecessary columns\n",
        "df = df.drop(['nameOrig', 'nameDest'], axis=1)\n",
        "\n",
        "# Convert categorical variables to numerical variables\n",
        "df = pd.get_dummies(df, columns=['type'], drop_first=True)\n",
        "\n",
        "# Normalize the data\n",
        "from sklearn.preprocessing import StandardScaler\n",
        "scaler = StandardScaler()\n",
        "df[['step', 'amount', 'oldbalanceOrg', 'newbalanceOrig', 'oldbalanceDest', 'newbalanceDest']] = scaler.fit_transform(df[['step', 'amount', 'oldbalanceOrg', 'newbalanceOrig', 'oldbalanceDest', 'newbalanceDest']])\n"
      ],
      "metadata": {
        "id": "4QsaRGUNWxik"
      },
      "execution_count": 18,
      "outputs": []
    },
    {
      "cell_type": "code",
      "source": [
        "df = df.dropna()"
      ],
      "metadata": {
        "id": "WH1uREvfZwJi"
      },
      "execution_count": 23,
      "outputs": []
    },
    {
      "cell_type": "code",
      "source": [
        "from sklearn.model_selection import train_test_split\n",
        "\n",
        "# Separate the target variable\n",
        "y = df['isFraud']\n",
        "X = df.drop(['isFraud', 'isFlaggedFraud'], axis=1)\n",
        "\n",
        "# Split the data into train and test sets\n",
        "X_train, X_test, y_train, y_test = train_test_split(X, y, test_size=0.2, random_state=42)\n"
      ],
      "metadata": {
        "id": "IV9-s4OzXYT0"
      },
      "execution_count": 24,
      "outputs": []
    },
    {
      "cell_type": "code",
      "source": [
        "model = keras.Sequential([\n",
        "    keras.layers.Dense(64, activation='relu', input_shape=(10,)),\n",
        "    keras.layers.Dense(32, activation='relu'),\n",
        "    keras.layers.Dense(16, activation='relu'),\n",
        "    keras.layers.Dense(1, activation='sigmoid')\n",
        "])\n",
        "\n",
        "# Compile the model\n",
        "model.compile(optimizer='adam', loss='binary_crossentropy', metrics=['accuracy'])\n"
      ],
      "metadata": {
        "id": "78g79TUyXfrC"
      },
      "execution_count": 25,
      "outputs": []
    },
    {
      "cell_type": "code",
      "source": [
        "history = model.fit(X_train, y_train, validation_split=0.2, epochs=30, batch_size=32)\n"
      ],
      "metadata": {
        "colab": {
          "base_uri": "https://localhost:8080/"
        },
        "id": "QYaoVw8oXiE2",
        "outputId": "d30dd1d2-51df-4bfc-8a2a-40c0a9add022"
      },
      "execution_count": 26,
      "outputs": [
        {
          "output_type": "stream",
          "name": "stdout",
          "text": [
            "Epoch 1/30\n",
            "17997/17997 [==============================] - 47s 3ms/step - loss: 0.0044 - accuracy: 0.9995 - val_loss: 0.0035 - val_accuracy: 0.9995\n",
            "Epoch 2/30\n",
            "17997/17997 [==============================] - 41s 2ms/step - loss: 0.0027 - accuracy: 0.9996 - val_loss: 0.0028 - val_accuracy: 0.9995\n",
            "Epoch 3/30\n",
            "17997/17997 [==============================] - 46s 3ms/step - loss: 0.0025 - accuracy: 0.9996 - val_loss: 0.0028 - val_accuracy: 0.9995\n",
            "Epoch 4/30\n",
            "17997/17997 [==============================] - 43s 2ms/step - loss: 0.0025 - accuracy: 0.9996 - val_loss: 0.0028 - val_accuracy: 0.9995\n",
            "Epoch 5/30\n",
            "17997/17997 [==============================] - 41s 2ms/step - loss: 0.0024 - accuracy: 0.9996 - val_loss: 0.0026 - val_accuracy: 0.9996\n",
            "Epoch 6/30\n",
            "17997/17997 [==============================] - 46s 3ms/step - loss: 0.0023 - accuracy: 0.9996 - val_loss: 0.0024 - val_accuracy: 0.9996\n",
            "Epoch 7/30\n",
            "17997/17997 [==============================] - 41s 2ms/step - loss: 0.0023 - accuracy: 0.9996 - val_loss: 0.0028 - val_accuracy: 0.9996\n",
            "Epoch 8/30\n",
            "17997/17997 [==============================] - 41s 2ms/step - loss: 0.0023 - accuracy: 0.9996 - val_loss: 0.0023 - val_accuracy: 0.9996\n",
            "Epoch 9/30\n",
            "17997/17997 [==============================] - 41s 2ms/step - loss: 0.0022 - accuracy: 0.9996 - val_loss: 0.0024 - val_accuracy: 0.9996\n",
            "Epoch 10/30\n",
            "17997/17997 [==============================] - 47s 3ms/step - loss: 0.0022 - accuracy: 0.9996 - val_loss: 0.0024 - val_accuracy: 0.9996\n",
            "Epoch 11/30\n",
            "17997/17997 [==============================] - 41s 2ms/step - loss: 0.0021 - accuracy: 0.9996 - val_loss: 0.0023 - val_accuracy: 0.9996\n",
            "Epoch 12/30\n",
            "17997/17997 [==============================] - 41s 2ms/step - loss: 0.0021 - accuracy: 0.9996 - val_loss: 0.0025 - val_accuracy: 0.9996\n",
            "Epoch 13/30\n",
            "17997/17997 [==============================] - 41s 2ms/step - loss: 0.0021 - accuracy: 0.9996 - val_loss: 0.0021 - val_accuracy: 0.9996\n",
            "Epoch 14/30\n",
            "17997/17997 [==============================] - 46s 3ms/step - loss: 0.0021 - accuracy: 0.9996 - val_loss: 0.0021 - val_accuracy: 0.9996\n",
            "Epoch 15/30\n",
            "17997/17997 [==============================] - 41s 2ms/step - loss: 0.0021 - accuracy: 0.9996 - val_loss: 0.0024 - val_accuracy: 0.9996\n",
            "Epoch 16/30\n",
            "17997/17997 [==============================] - 41s 2ms/step - loss: 0.0021 - accuracy: 0.9996 - val_loss: 0.0022 - val_accuracy: 0.9996\n",
            "Epoch 17/30\n",
            "17997/17997 [==============================] - 41s 2ms/step - loss: 0.0021 - accuracy: 0.9996 - val_loss: 0.0023 - val_accuracy: 0.9996\n",
            "Epoch 18/30\n",
            "17997/17997 [==============================] - 41s 2ms/step - loss: 0.0021 - accuracy: 0.9996 - val_loss: 0.0023 - val_accuracy: 0.9996\n",
            "Epoch 19/30\n",
            "17997/17997 [==============================] - 46s 3ms/step - loss: 0.0020 - accuracy: 0.9996 - val_loss: 0.0022 - val_accuracy: 0.9996\n",
            "Epoch 20/30\n",
            "17997/17997 [==============================] - 41s 2ms/step - loss: 0.0020 - accuracy: 0.9996 - val_loss: 0.0025 - val_accuracy: 0.9996\n",
            "Epoch 21/30\n",
            "17997/17997 [==============================] - 41s 2ms/step - loss: 0.0020 - accuracy: 0.9997 - val_loss: 0.0025 - val_accuracy: 0.9995\n",
            "Epoch 22/30\n",
            "17997/17997 [==============================] - 41s 2ms/step - loss: 0.0020 - accuracy: 0.9996 - val_loss: 0.0020 - val_accuracy: 0.9996\n",
            "Epoch 23/30\n",
            "17997/17997 [==============================] - 41s 2ms/step - loss: 0.0021 - accuracy: 0.9996 - val_loss: 0.0023 - val_accuracy: 0.9996\n",
            "Epoch 24/30\n",
            "17997/17997 [==============================] - 41s 2ms/step - loss: 0.0019 - accuracy: 0.9996 - val_loss: 0.0021 - val_accuracy: 0.9996\n",
            "Epoch 25/30\n",
            "17997/17997 [==============================] - 42s 2ms/step - loss: 0.0021 - accuracy: 0.9996 - val_loss: 0.0025 - val_accuracy: 0.9996\n",
            "Epoch 26/30\n",
            "17997/17997 [==============================] - 40s 2ms/step - loss: 0.0020 - accuracy: 0.9997 - val_loss: 0.0023 - val_accuracy: 0.9996\n",
            "Epoch 27/30\n",
            "17997/17997 [==============================] - 41s 2ms/step - loss: 0.0025 - accuracy: 0.9996 - val_loss: 0.0023 - val_accuracy: 0.9996\n",
            "Epoch 28/30\n",
            "17997/17997 [==============================] - 40s 2ms/step - loss: 0.0021 - accuracy: 0.9996 - val_loss: 0.0021 - val_accuracy: 0.9996\n",
            "Epoch 29/30\n",
            "17997/17997 [==============================] - 40s 2ms/step - loss: 0.0020 - accuracy: 0.9996 - val_loss: 0.0026 - val_accuracy: 0.9995\n",
            "Epoch 30/30\n",
            "17997/17997 [==============================] - 40s 2ms/step - loss: 0.0023 - accuracy: 0.9996 - val_loss: 0.0022 - val_accuracy: 0.9996\n"
          ]
        }
      ]
    },
    {
      "cell_type": "code",
      "source": [
        "accuracy = model.evaluate(X_test, y_test)\n",
        "print('Accuracy: %.2f%%' % (accuracy[1]*100))"
      ],
      "metadata": {
        "colab": {
          "base_uri": "https://localhost:8080/"
        },
        "id": "Sjm3x38Fe4zy",
        "outputId": "9cc1895d-5ff3-4885-fc65-24629ddc1129"
      },
      "execution_count": 35,
      "outputs": [
        {
          "output_type": "stream",
          "name": "stdout",
          "text": [
            "5625/5625 [==============================] - 11s 2ms/step - loss: 0.0020 - accuracy: 0.9997\n",
            "Accuracy: 99.97%\n"
          ]
        }
      ]
    },
    {
      "cell_type": "code",
      "source": [
        "# Predict on test data\n",
        "y_pred = np.round(model.predict(X_test))\n",
        "\n",
        "# Confusion matrix\n",
        "from sklearn.metrics import confusion_matrix\n",
        "cm = confusion_matrix(y_test, y_pred)\n",
        "print(cm)"
      ],
      "metadata": {
        "colab": {
          "base_uri": "https://localhost:8080/"
        },
        "id": "8zpQPNgti9li",
        "outputId": "5c506f73-ac3c-4db2-feb3-9a2fb478ddd2"
      },
      "execution_count": 46,
      "outputs": [
        {
          "output_type": "stream",
          "name": "stdout",
          "text": [
            "5625/5625 [==============================] - 8s 1ms/step\n",
            "[[179868      3]\n",
            " [    57     41]]\n"
          ]
        }
      ]
    },
    {
      "cell_type": "code",
      "source": [
        "import seaborn as sns\n",
        "sns.heatmap(cm, annot=True, cmap='Blues')"
      ],
      "metadata": {
        "colab": {
          "base_uri": "https://localhost:8080/",
          "height": 447
        },
        "id": "X5-WacYijvsh",
        "outputId": "bff15c4c-d638-4193-9318-edaba934ceab"
      },
      "execution_count": 47,
      "outputs": [
        {
          "output_type": "execute_result",
          "data": {
            "text/plain": [
              "<Axes: >"
            ]
          },
          "metadata": {},
          "execution_count": 47
        },
        {
          "output_type": "display_data",
          "data": {
            "text/plain": [
              "<Figure size 640x480 with 2 Axes>"
            ],
            "image/png": "[encoded data removed]"
          },
          "metadata": {}
        }
      ]
    }
  ]
}